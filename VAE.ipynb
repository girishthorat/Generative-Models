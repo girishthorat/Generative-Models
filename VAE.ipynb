{
  "nbformat": 4,
  "nbformat_minor": 0,
  "metadata": {
    "colab": {
      "name": "VAE.ipynb",
      "provenance": [],
      "authorship_tag": "ABX9TyOQPPO796h8kt+zd2ftLMkP",
      "include_colab_link": true
    },
    "kernelspec": {
      "name": "python3",
      "display_name": "Python 3"
    },
    "accelerator": "GPU"
  },
  "cells": [
    {
      "cell_type": "markdown",
      "metadata": {
        "id": "view-in-github",
        "colab_type": "text"
      },
      "source": [
        "<a href=\"https://colab.research.google.com/github/girishthorat/Generative-Models/blob/main/VAE.ipynb\" target=\"_parent\"><img src=\"https://colab.research.google.com/assets/colab-badge.svg\" alt=\"Open In Colab\"/></a>"
      ]
    },
    {
      "cell_type": "code",
      "metadata": {
        "id": "rhOZSlbh3gKa"
      },
      "source": [
        "import keras\r\n",
        "from keras import layers\r\n",
        "\r\n",
        "# This is the size of our encoded representations\r\n",
        "encoding_dim = 32  # 32 floats -> compression of factor 24.5, assuming the input is 784 floats\r\n",
        "\r\n",
        "# This is our input image\r\n",
        "input_img = keras.Input(shape=(784,))\r\n",
        "# \"encoded\" is the encoded representation of the input\r\n",
        "encoded = layers.Dense(encoding_dim, activation='relu')(input_img)\r\n",
        "\r\n",
        "# \"decoded\" is the lossy reconstruction of the input\r\n",
        "decoded = layers.Dense(784, activation='sigmoid')(encoded)\r\n",
        "\r\n",
        "# This model maps an input to its reconstruction\r\n",
        "autoencoder = keras.Model(input_img, decoded)\r\n"
      ],
      "execution_count": null,
      "outputs": []
    },
    {
      "cell_type": "code",
      "metadata": {
        "id": "BfvAUesx5QnP"
      },
      "source": [
        "from keras.datasets import mnist\r\n",
        "import numpy as np\r\n",
        "(x_train, _), (x_test, _) = mnist.load_data()"
      ],
      "execution_count": null,
      "outputs": []
    },
    {
      "cell_type": "code",
      "metadata": {
        "colab": {
          "base_uri": "https://localhost:8080/"
        },
        "id": "9oochCF46BtV",
        "outputId": "b41e0241-8111-4517-8546-d00ce115e349"
      },
      "source": [
        "x_train = x_train.astype('float32') / 255.\r\n",
        "x_test = x_test.astype('float32') / 255.\r\n",
        "x_train = x_train.reshape((len(x_train), np.prod(x_train.shape[1:])))\r\n",
        "x_test = x_test.reshape((len(x_test), np.prod(x_test.shape[1:])))\r\n",
        "print(x_train.shape)\r\n",
        "print(x_test.shape)"
      ],
      "execution_count": null,
      "outputs": [
        {
          "output_type": "stream",
          "text": [
            "(60000, 784)\n",
            "(10000, 784)\n"
          ],
          "name": "stdout"
        }
      ]
    },
    {
      "cell_type": "code",
      "metadata": {
        "id": "TlSbICY03mwz"
      },
      "source": [
        "encoder = keras.Model(input_img, encoded)\r\n",
        "encoded_input = keras.Input(shape=(encoding_dim,))\r\n",
        "# Retrieve the last layer of the autoencoder model\r\n",
        "decoder_layer = autoencoder.layers[-1]\r\n",
        "# Create the decoder model\r\n",
        "decoder = keras.Model(encoded_input, decoder_layer(encoded_input))\r\n",
        "autoencoder.compile(optimizer='adam', loss='binary_crossentropy')"
      ],
      "execution_count": null,
      "outputs": []
    },
    {
      "cell_type": "code",
      "metadata": {
        "colab": {
          "base_uri": "https://localhost:8080/"
        },
        "id": "3_W7OSAU5j1l",
        "outputId": "4027e0cf-6296-4471-fff0-b8fdb2f7b776"
      },
      "source": [
        "autoencoder.fit(x_train, x_train,\r\n",
        "                epochs=100,\r\n",
        "                batch_size=256,\r\n",
        "                shuffle=True,\r\n",
        "                validation_data=(x_test, x_test))"
      ],
      "execution_count": null,
      "outputs": [
        {
          "output_type": "stream",
          "text": [
            "Epoch 1/100\n",
            "235/235 [==============================] - 1s 3ms/step - loss: 0.0919 - val_loss: 0.0910\n",
            "Epoch 2/100\n",
            "235/235 [==============================] - 1s 3ms/step - loss: 0.0919 - val_loss: 0.0909\n",
            "Epoch 3/100\n",
            "235/235 [==============================] - 1s 3ms/step - loss: 0.0919 - val_loss: 0.0909\n",
            "Epoch 4/100\n",
            "235/235 [==============================] - 1s 3ms/step - loss: 0.0919 - val_loss: 0.0910\n",
            "Epoch 5/100\n",
            "235/235 [==============================] - 1s 3ms/step - loss: 0.0919 - val_loss: 0.0909\n",
            "Epoch 6/100\n",
            "235/235 [==============================] - 1s 3ms/step - loss: 0.0919 - val_loss: 0.0909\n",
            "Epoch 7/100\n",
            "235/235 [==============================] - 1s 3ms/step - loss: 0.0919 - val_loss: 0.0909\n",
            "Epoch 8/100\n",
            "235/235 [==============================] - 1s 3ms/step - loss: 0.0919 - val_loss: 0.0909\n",
            "Epoch 9/100\n",
            "235/235 [==============================] - 1s 3ms/step - loss: 0.0919 - val_loss: 0.0909\n",
            "Epoch 10/100\n",
            "235/235 [==============================] - 1s 3ms/step - loss: 0.0918 - val_loss: 0.0909\n",
            "Epoch 11/100\n",
            "235/235 [==============================] - 1s 3ms/step - loss: 0.0919 - val_loss: 0.0909\n",
            "Epoch 12/100\n",
            "235/235 [==============================] - 1s 3ms/step - loss: 0.0919 - val_loss: 0.0909\n",
            "Epoch 13/100\n",
            "235/235 [==============================] - 1s 3ms/step - loss: 0.0918 - val_loss: 0.0909\n",
            "Epoch 14/100\n",
            "235/235 [==============================] - 1s 3ms/step - loss: 0.0918 - val_loss: 0.0909\n",
            "Epoch 15/100\n",
            "235/235 [==============================] - 1s 3ms/step - loss: 0.0918 - val_loss: 0.0909\n",
            "Epoch 16/100\n",
            "235/235 [==============================] - 1s 3ms/step - loss: 0.0918 - val_loss: 0.0909\n",
            "Epoch 17/100\n",
            "235/235 [==============================] - 1s 3ms/step - loss: 0.0918 - val_loss: 0.0909\n",
            "Epoch 18/100\n",
            "235/235 [==============================] - 1s 3ms/step - loss: 0.0918 - val_loss: 0.0909\n",
            "Epoch 19/100\n",
            "235/235 [==============================] - 1s 3ms/step - loss: 0.0918 - val_loss: 0.0909\n",
            "Epoch 20/100\n",
            "235/235 [==============================] - 1s 3ms/step - loss: 0.0918 - val_loss: 0.0908\n",
            "Epoch 21/100\n",
            "235/235 [==============================] - 1s 3ms/step - loss: 0.0918 - val_loss: 0.0909\n",
            "Epoch 22/100\n",
            "235/235 [==============================] - 1s 3ms/step - loss: 0.0918 - val_loss: 0.0909\n",
            "Epoch 23/100\n",
            "235/235 [==============================] - 1s 3ms/step - loss: 0.0918 - val_loss: 0.0909\n",
            "Epoch 24/100\n",
            "235/235 [==============================] - 1s 3ms/step - loss: 0.0918 - val_loss: 0.0909\n",
            "Epoch 25/100\n",
            "235/235 [==============================] - 1s 3ms/step - loss: 0.0918 - val_loss: 0.0909\n",
            "Epoch 26/100\n",
            "235/235 [==============================] - 1s 3ms/step - loss: 0.0918 - val_loss: 0.0909\n",
            "Epoch 27/100\n",
            "235/235 [==============================] - 1s 3ms/step - loss: 0.0918 - val_loss: 0.0909\n",
            "Epoch 28/100\n",
            "235/235 [==============================] - 1s 3ms/step - loss: 0.0918 - val_loss: 0.0909\n",
            "Epoch 29/100\n",
            "235/235 [==============================] - 1s 3ms/step - loss: 0.0918 - val_loss: 0.0909\n",
            "Epoch 30/100\n",
            "235/235 [==============================] - 1s 3ms/step - loss: 0.0918 - val_loss: 0.0909\n",
            "Epoch 31/100\n",
            "235/235 [==============================] - 1s 3ms/step - loss: 0.0918 - val_loss: 0.0909\n",
            "Epoch 32/100\n",
            "235/235 [==============================] - 1s 3ms/step - loss: 0.0918 - val_loss: 0.0908\n",
            "Epoch 33/100\n",
            "235/235 [==============================] - 1s 3ms/step - loss: 0.0918 - val_loss: 0.0909\n",
            "Epoch 34/100\n",
            "235/235 [==============================] - 1s 3ms/step - loss: 0.0918 - val_loss: 0.0909\n",
            "Epoch 35/100\n",
            "235/235 [==============================] - 1s 3ms/step - loss: 0.0918 - val_loss: 0.0909\n",
            "Epoch 36/100\n",
            "235/235 [==============================] - 1s 3ms/step - loss: 0.0918 - val_loss: 0.0909\n",
            "Epoch 37/100\n",
            "235/235 [==============================] - 1s 3ms/step - loss: 0.0918 - val_loss: 0.0908\n",
            "Epoch 38/100\n",
            "235/235 [==============================] - 1s 3ms/step - loss: 0.0918 - val_loss: 0.0908\n",
            "Epoch 39/100\n",
            "235/235 [==============================] - 1s 3ms/step - loss: 0.0918 - val_loss: 0.0908\n",
            "Epoch 40/100\n",
            "235/235 [==============================] - 1s 3ms/step - loss: 0.0918 - val_loss: 0.0909\n",
            "Epoch 41/100\n",
            "235/235 [==============================] - 1s 3ms/step - loss: 0.0918 - val_loss: 0.0908\n",
            "Epoch 42/100\n",
            "235/235 [==============================] - 1s 3ms/step - loss: 0.0918 - val_loss: 0.0909\n",
            "Epoch 43/100\n",
            "235/235 [==============================] - 1s 3ms/step - loss: 0.0918 - val_loss: 0.0908\n",
            "Epoch 44/100\n",
            "235/235 [==============================] - 1s 3ms/step - loss: 0.0918 - val_loss: 0.0909\n",
            "Epoch 45/100\n",
            "235/235 [==============================] - 1s 3ms/step - loss: 0.0918 - val_loss: 0.0909\n",
            "Epoch 46/100\n",
            "235/235 [==============================] - 1s 3ms/step - loss: 0.0918 - val_loss: 0.0908\n",
            "Epoch 47/100\n",
            "235/235 [==============================] - 1s 3ms/step - loss: 0.0918 - val_loss: 0.0908\n",
            "Epoch 48/100\n",
            "235/235 [==============================] - 1s 3ms/step - loss: 0.0918 - val_loss: 0.0909\n",
            "Epoch 49/100\n",
            "235/235 [==============================] - 1s 3ms/step - loss: 0.0918 - val_loss: 0.0908\n",
            "Epoch 50/100\n",
            "235/235 [==============================] - 1s 3ms/step - loss: 0.0918 - val_loss: 0.0909\n",
            "Epoch 51/100\n",
            "235/235 [==============================] - 1s 3ms/step - loss: 0.0918 - val_loss: 0.0909\n",
            "Epoch 52/100\n",
            "235/235 [==============================] - 1s 3ms/step - loss: 0.0918 - val_loss: 0.0909\n",
            "Epoch 53/100\n",
            "235/235 [==============================] - 1s 3ms/step - loss: 0.0918 - val_loss: 0.0909\n",
            "Epoch 54/100\n",
            "235/235 [==============================] - 1s 3ms/step - loss: 0.0918 - val_loss: 0.0908\n",
            "Epoch 55/100\n",
            "235/235 [==============================] - 1s 3ms/step - loss: 0.0918 - val_loss: 0.0909\n",
            "Epoch 56/100\n",
            "235/235 [==============================] - 1s 3ms/step - loss: 0.0918 - val_loss: 0.0910\n",
            "Epoch 57/100\n",
            "235/235 [==============================] - 1s 3ms/step - loss: 0.0918 - val_loss: 0.0908\n",
            "Epoch 58/100\n",
            "235/235 [==============================] - 1s 3ms/step - loss: 0.0918 - val_loss: 0.0908\n",
            "Epoch 59/100\n",
            "235/235 [==============================] - 1s 3ms/step - loss: 0.0918 - val_loss: 0.0909\n",
            "Epoch 60/100\n",
            "235/235 [==============================] - 1s 3ms/step - loss: 0.0918 - val_loss: 0.0908\n",
            "Epoch 61/100\n",
            "235/235 [==============================] - 1s 3ms/step - loss: 0.0918 - val_loss: 0.0909\n",
            "Epoch 62/100\n",
            "235/235 [==============================] - 1s 3ms/step - loss: 0.0918 - val_loss: 0.0908\n",
            "Epoch 63/100\n",
            "235/235 [==============================] - 1s 3ms/step - loss: 0.0918 - val_loss: 0.0908\n",
            "Epoch 64/100\n",
            "235/235 [==============================] - 1s 3ms/step - loss: 0.0917 - val_loss: 0.0908\n",
            "Epoch 65/100\n",
            "235/235 [==============================] - 1s 3ms/step - loss: 0.0918 - val_loss: 0.0908\n",
            "Epoch 66/100\n",
            "235/235 [==============================] - 1s 3ms/step - loss: 0.0917 - val_loss: 0.0908\n",
            "Epoch 67/100\n",
            "235/235 [==============================] - 1s 3ms/step - loss: 0.0918 - val_loss: 0.0909\n",
            "Epoch 68/100\n",
            "235/235 [==============================] - 1s 3ms/step - loss: 0.0917 - val_loss: 0.0908\n",
            "Epoch 69/100\n",
            "235/235 [==============================] - 1s 3ms/step - loss: 0.0917 - val_loss: 0.0908\n",
            "Epoch 70/100\n",
            "235/235 [==============================] - 1s 3ms/step - loss: 0.0918 - val_loss: 0.0908\n",
            "Epoch 71/100\n",
            "235/235 [==============================] - 1s 3ms/step - loss: 0.0917 - val_loss: 0.0908\n",
            "Epoch 72/100\n",
            "235/235 [==============================] - 1s 3ms/step - loss: 0.0917 - val_loss: 0.0908\n",
            "Epoch 73/100\n",
            "235/235 [==============================] - 1s 3ms/step - loss: 0.0917 - val_loss: 0.0908\n",
            "Epoch 74/100\n",
            "235/235 [==============================] - 1s 3ms/step - loss: 0.0917 - val_loss: 0.0908\n",
            "Epoch 75/100\n",
            "235/235 [==============================] - 1s 3ms/step - loss: 0.0917 - val_loss: 0.0908\n",
            "Epoch 76/100\n",
            "235/235 [==============================] - 1s 3ms/step - loss: 0.0917 - val_loss: 0.0908\n",
            "Epoch 77/100\n",
            "235/235 [==============================] - 1s 3ms/step - loss: 0.0917 - val_loss: 0.0908\n",
            "Epoch 78/100\n",
            "235/235 [==============================] - 1s 3ms/step - loss: 0.0917 - val_loss: 0.0908\n",
            "Epoch 79/100\n",
            "235/235 [==============================] - 1s 3ms/step - loss: 0.0917 - val_loss: 0.0909\n",
            "Epoch 80/100\n",
            "235/235 [==============================] - 1s 3ms/step - loss: 0.0917 - val_loss: 0.0908\n",
            "Epoch 81/100\n",
            "235/235 [==============================] - 1s 3ms/step - loss: 0.0917 - val_loss: 0.0908\n",
            "Epoch 82/100\n",
            "235/235 [==============================] - 1s 3ms/step - loss: 0.0917 - val_loss: 0.0908\n",
            "Epoch 83/100\n",
            "235/235 [==============================] - 1s 3ms/step - loss: 0.0917 - val_loss: 0.0908\n",
            "Epoch 84/100\n",
            "235/235 [==============================] - 1s 3ms/step - loss: 0.0917 - val_loss: 0.0908\n",
            "Epoch 85/100\n",
            "235/235 [==============================] - 1s 3ms/step - loss: 0.0917 - val_loss: 0.0908\n",
            "Epoch 86/100\n",
            "235/235 [==============================] - 1s 3ms/step - loss: 0.0917 - val_loss: 0.0908\n",
            "Epoch 87/100\n",
            "235/235 [==============================] - 1s 3ms/step - loss: 0.0917 - val_loss: 0.0907\n",
            "Epoch 88/100\n",
            "235/235 [==============================] - 1s 3ms/step - loss: 0.0917 - val_loss: 0.0908\n",
            "Epoch 89/100\n",
            "235/235 [==============================] - 1s 3ms/step - loss: 0.0917 - val_loss: 0.0908\n",
            "Epoch 90/100\n",
            "235/235 [==============================] - 1s 3ms/step - loss: 0.0917 - val_loss: 0.0908\n",
            "Epoch 91/100\n",
            "235/235 [==============================] - 1s 3ms/step - loss: 0.0917 - val_loss: 0.0908\n",
            "Epoch 92/100\n",
            "235/235 [==============================] - 1s 3ms/step - loss: 0.0917 - val_loss: 0.0908\n",
            "Epoch 93/100\n",
            "235/235 [==============================] - 1s 3ms/step - loss: 0.0917 - val_loss: 0.0908\n",
            "Epoch 94/100\n",
            "235/235 [==============================] - 1s 3ms/step - loss: 0.0917 - val_loss: 0.0908\n",
            "Epoch 95/100\n",
            "235/235 [==============================] - 1s 3ms/step - loss: 0.0917 - val_loss: 0.0908\n",
            "Epoch 96/100\n",
            "235/235 [==============================] - 1s 3ms/step - loss: 0.0917 - val_loss: 0.0907\n",
            "Epoch 97/100\n",
            "235/235 [==============================] - 1s 3ms/step - loss: 0.0917 - val_loss: 0.0908\n",
            "Epoch 98/100\n",
            "235/235 [==============================] - 1s 3ms/step - loss: 0.0917 - val_loss: 0.0908\n",
            "Epoch 99/100\n",
            "235/235 [==============================] - 1s 3ms/step - loss: 0.0917 - val_loss: 0.0907\n",
            "Epoch 100/100\n",
            "235/235 [==============================] - 1s 3ms/step - loss: 0.0917 - val_loss: 0.0908\n"
          ],
          "name": "stdout"
        },
        {
          "output_type": "execute_result",
          "data": {
            "text/plain": [
              "<tensorflow.python.keras.callbacks.History at 0x7f715c112ac8>"
            ]
          },
          "metadata": {
            "tags": []
          },
          "execution_count": 18
        }
      ]
    },
    {
      "cell_type": "code",
      "metadata": {
        "id": "MgHN3vxH6Qsb"
      },
      "source": [
        "encoded_imgs = encoder.predict(x_test)\r\n",
        "decoded_imgs = decoder.predict(encoded_imgs)"
      ],
      "execution_count": null,
      "outputs": []
    },
    {
      "cell_type": "code",
      "metadata": {
        "colab": {
          "base_uri": "https://localhost:8080/",
          "height": 248
        },
        "id": "Vbou1thd6bVN",
        "outputId": "d1ac1636-220d-4ef5-bcd2-f60474346509"
      },
      "source": [
        "import matplotlib.pyplot as plt\r\n",
        "\r\n",
        "n = 10  # How many digits we will display\r\n",
        "plt.figure(figsize=(20, 4))\r\n",
        "for i in range(n):\r\n",
        "    # Display original\r\n",
        "    ax = plt.subplot(2, n, i + 1)\r\n",
        "    plt.imshow(x_test[i].reshape(28, 28))\r\n",
        "    plt.gray()\r\n",
        "    ax.get_xaxis().set_visible(False)\r\n",
        "    ax.get_yaxis().set_visible(False)\r\n",
        "\r\n",
        "    # Display reconstruction\r\n",
        "    ax = plt.subplot(2, n, i + 1 + n)\r\n",
        "    plt.imshow(decoded_imgs[i].reshape(28, 28))\r\n",
        "    plt.gray()\r\n",
        "    ax.get_xaxis().set_visible(False)\r\n",
        "    ax.get_yaxis().set_visible(False)\r\n",
        "plt.show()"
      ],
      "execution_count": null,
      "outputs": [
        {
          "output_type": "display_data",
          "data": {
            "image/png": "[encoded data removed]",
            "text/plain": [
              "<Figure size 1440x288 with 20 Axes>"
            ]
          },
          "metadata": {
            "tags": [],
            "needs_background": "light"
          }
        }
      ]
    },
    {
      "cell_type": "code",
      "metadata": {
        "id": "TH3V9Wfh6fkD"
      },
      "source": [
        "import keras\r\n",
        "from keras import layers\r\n",
        "\r\n",
        "input_img = keras.Input(shape=(28, 28, 1))\r\n",
        "\r\n",
        "x = layers.Conv2D(16, (3, 3), activation='relu', padding='same')(input_img)\r\n",
        "x = layers.MaxPooling2D((2, 2), padding='same')(x)\r\n",
        "x = layers.Conv2D(8, (3, 3), activation='relu', padding='same')(x)\r\n",
        "x = layers.MaxPooling2D((2, 2), padding='same')(x)\r\n",
        "x = layers.Conv2D(8, (3, 3), activation='relu', padding='same')(x)\r\n",
        "encoded = layers.MaxPooling2D((2, 2), padding='same')(x)\r\n",
        "\r\n",
        "# at this point the representation is (4, 4, 8) i.e. 128-dimensional\r\n",
        "\r\n",
        "x = layers.Conv2D(8, (3, 3), activation='relu', padding='same')(encoded)\r\n",
        "x = layers.UpSampling2D((2, 2))(x)\r\n",
        "x = layers.Conv2D(8, (3, 3), activation='relu', padding='same')(x)\r\n",
        "x = layers.UpSampling2D((2, 2))(x)\r\n",
        "x = layers.Conv2D(16, (3, 3), activation='relu')(x)\r\n",
        "x = layers.UpSampling2D((2, 2))(x)\r\n",
        "decoded = layers.Conv2D(1, (3, 3), activation='sigmoid', padding='same')(x)\r\n",
        "\r\n",
        "autoencoder = keras.Model(input_img, decoded)\r\n",
        "autoencoder.compile(optimizer='adam', loss='binary_crossentropy')"
      ],
      "execution_count": null,
      "outputs": []
    },
    {
      "cell_type": "code",
      "metadata": {
        "id": "fTNJB8avGbhG"
      },
      "source": [
        ""
      ],
      "execution_count": null,
      "outputs": []
    },
    {
      "cell_type": "code",
      "metadata": {
        "id": "VsIM1QihB3kp"
      },
      "source": [
        "from keras.datasets import mnist\r\n",
        "import numpy as np\r\n",
        "\r\n",
        "(x_train, _), (x_test, _) = mnist.load_data()\r\n",
        "\r\n",
        "x_train = x_train.astype('float32') / 255.\r\n",
        "x_test = x_test.astype('float32') / 255.\r\n",
        "x_train = np.reshape(x_train, (len(x_train), 28, 28, 1))\r\n",
        "x_test = np.reshape(x_test, (len(x_test), 28, 28, 1))"
      ],
      "execution_count": null,
      "outputs": []
    },
    {
      "cell_type": "code",
      "metadata": {
        "colab": {
          "base_uri": "https://localhost:8080/"
        },
        "id": "H3woFoDHB8mH",
        "outputId": "2089960e-a0e5-4a0d-ba6d-ffdf798ee143"
      },
      "source": [
        "from keras.callbacks import TensorBoard\r\n",
        "\r\n",
        "autoencoder.fit(x_train, x_train,\r\n",
        "                epochs=100,\r\n",
        "                batch_size=128,\r\n",
        "                shuffle=True,\r\n",
        "                validation_data=(x_test, x_test),\r\n",
        "                callbacks=[TensorBoard(log_dir='/tmp/autoencoder')])"
      ],
      "execution_count": null,
      "outputs": [
        {
          "output_type": "stream",
          "text": [
            "Epoch 1/100\n",
            "  2/469 [..............................] - ETA: 22s - loss: 0.7008WARNING:tensorflow:Callbacks method `on_train_batch_end` is slow compared to the batch time (batch time: 0.0083s vs `on_train_batch_end` time: 0.0821s). Check your callbacks.\n",
            "469/469 [==============================] - 3s 6ms/step - loss: 0.2261 - val_loss: 0.1448\n",
            "Epoch 2/100\n",
            "469/469 [==============================] - 3s 6ms/step - loss: 0.1349 - val_loss: 0.1262\n",
            "Epoch 3/100\n",
            "469/469 [==============================] - 3s 5ms/step - loss: 0.1229 - val_loss: 0.1182\n",
            "Epoch 4/100\n",
            "469/469 [==============================] - 3s 5ms/step - loss: 0.1169 - val_loss: 0.1136\n",
            "Epoch 5/100\n",
            "469/469 [==============================] - 3s 6ms/step - loss: 0.1129 - val_loss: 0.1101\n",
            "Epoch 6/100\n",
            "469/469 [==============================] - 3s 5ms/step - loss: 0.1100 - val_loss: 0.1075\n",
            "Epoch 7/100\n",
            "469/469 [==============================] - 3s 5ms/step - loss: 0.1078 - val_loss: 0.1061\n",
            "Epoch 8/100\n",
            "469/469 [==============================] - 3s 5ms/step - loss: 0.1059 - val_loss: 0.1042\n",
            "Epoch 9/100\n",
            "469/469 [==============================] - 3s 5ms/step - loss: 0.1045 - val_loss: 0.1029\n",
            "Epoch 10/100\n",
            "469/469 [==============================] - 3s 5ms/step - loss: 0.1033 - val_loss: 0.1016\n",
            "Epoch 11/100\n",
            "469/469 [==============================] - 3s 6ms/step - loss: 0.1022 - val_loss: 0.1009\n",
            "Epoch 12/100\n",
            "469/469 [==============================] - 3s 6ms/step - loss: 0.1014 - val_loss: 0.0998\n",
            "Epoch 13/100\n",
            "469/469 [==============================] - 3s 5ms/step - loss: 0.1006 - val_loss: 0.0993\n",
            "Epoch 14/100\n",
            "469/469 [==============================] - 3s 5ms/step - loss: 0.0999 - val_loss: 0.0983\n",
            "Epoch 15/100\n",
            "469/469 [==============================] - 3s 5ms/step - loss: 0.0992 - val_loss: 0.0995\n",
            "Epoch 16/100\n",
            "469/469 [==============================] - 3s 5ms/step - loss: 0.0986 - val_loss: 0.0973\n",
            "Epoch 17/100\n",
            "469/469 [==============================] - 3s 5ms/step - loss: 0.0980 - val_loss: 0.0966\n",
            "Epoch 18/100\n",
            "469/469 [==============================] - 3s 6ms/step - loss: 0.0974 - val_loss: 0.0963\n",
            "Epoch 19/100\n",
            "469/469 [==============================] - 3s 6ms/step - loss: 0.0970 - val_loss: 0.0963\n",
            "Epoch 20/100\n",
            "469/469 [==============================] - 3s 5ms/step - loss: 0.0965 - val_loss: 0.0951\n",
            "Epoch 21/100\n",
            "469/469 [==============================] - 3s 6ms/step - loss: 0.0961 - val_loss: 0.0948\n",
            "Epoch 22/100\n",
            "469/469 [==============================] - 3s 5ms/step - loss: 0.0957 - val_loss: 0.0949\n",
            "Epoch 23/100\n",
            "469/469 [==============================] - 3s 5ms/step - loss: 0.0953 - val_loss: 0.0943\n",
            "Epoch 24/100\n",
            "469/469 [==============================] - 3s 6ms/step - loss: 0.0949 - val_loss: 0.0937\n",
            "Epoch 25/100\n",
            "469/469 [==============================] - 3s 6ms/step - loss: 0.0946 - val_loss: 0.0936\n",
            "Epoch 26/100\n",
            "469/469 [==============================] - 3s 5ms/step - loss: 0.0943 - val_loss: 0.0936\n",
            "Epoch 27/100\n",
            "469/469 [==============================] - 3s 6ms/step - loss: 0.0940 - val_loss: 0.0928\n",
            "Epoch 28/100\n",
            "469/469 [==============================] - 3s 5ms/step - loss: 0.0937 - val_loss: 0.0925\n",
            "Epoch 29/100\n",
            "469/469 [==============================] - 3s 5ms/step - loss: 0.0935 - val_loss: 0.0925\n",
            "Epoch 30/100\n",
            "469/469 [==============================] - 3s 5ms/step - loss: 0.0932 - val_loss: 0.0922\n",
            "Epoch 31/100\n",
            "469/469 [==============================] - 3s 5ms/step - loss: 0.0930 - val_loss: 0.0919\n",
            "Epoch 32/100\n",
            "469/469 [==============================] - 3s 5ms/step - loss: 0.0928 - val_loss: 0.0914\n",
            "Epoch 33/100\n",
            "469/469 [==============================] - 3s 5ms/step - loss: 0.0925 - val_loss: 0.0914\n",
            "Epoch 34/100\n",
            "469/469 [==============================] - 3s 6ms/step - loss: 0.0924 - val_loss: 0.0913\n",
            "Epoch 35/100\n",
            "469/469 [==============================] - 3s 6ms/step - loss: 0.0923 - val_loss: 0.0915\n",
            "Epoch 36/100\n",
            "469/469 [==============================] - 3s 6ms/step - loss: 0.0920 - val_loss: 0.0914\n",
            "Epoch 37/100\n",
            "469/469 [==============================] - 3s 6ms/step - loss: 0.0919 - val_loss: 0.0909\n",
            "Epoch 38/100\n",
            "469/469 [==============================] - 3s 6ms/step - loss: 0.0917 - val_loss: 0.0915\n",
            "Epoch 39/100\n",
            "469/469 [==============================] - 3s 5ms/step - loss: 0.0916 - val_loss: 0.0913\n",
            "Epoch 40/100\n",
            "469/469 [==============================] - 3s 5ms/step - loss: 0.0915 - val_loss: 0.0902\n",
            "Epoch 41/100\n",
            "469/469 [==============================] - 3s 5ms/step - loss: 0.0913 - val_loss: 0.0901\n",
            "Epoch 42/100\n",
            "469/469 [==============================] - 3s 5ms/step - loss: 0.0912 - val_loss: 0.0902\n",
            "Epoch 43/100\n",
            "469/469 [==============================] - 3s 5ms/step - loss: 0.0911 - val_loss: 0.0900\n",
            "Epoch 44/100\n",
            "469/469 [==============================] - 3s 5ms/step - loss: 0.0910 - val_loss: 0.0898\n",
            "Epoch 45/100\n",
            "469/469 [==============================] - 3s 5ms/step - loss: 0.0908 - val_loss: 0.0897\n",
            "Epoch 46/100\n",
            "469/469 [==============================] - 3s 6ms/step - loss: 0.0907 - val_loss: 0.0899\n",
            "Epoch 47/100\n",
            "469/469 [==============================] - 3s 6ms/step - loss: 0.0906 - val_loss: 0.0896\n",
            "Epoch 48/100\n",
            "469/469 [==============================] - 3s 5ms/step - loss: 0.0906 - val_loss: 0.0895\n",
            "Epoch 49/100\n",
            "469/469 [==============================] - 3s 5ms/step - loss: 0.0904 - val_loss: 0.0893\n",
            "Epoch 50/100\n",
            "469/469 [==============================] - 3s 5ms/step - loss: 0.0903 - val_loss: 0.0895\n",
            "Epoch 51/100\n",
            "469/469 [==============================] - 3s 6ms/step - loss: 0.0903 - val_loss: 0.0892\n",
            "Epoch 52/100\n",
            "469/469 [==============================] - 3s 6ms/step - loss: 0.0902 - val_loss: 0.0892\n",
            "Epoch 53/100\n",
            "469/469 [==============================] - 3s 6ms/step - loss: 0.0901 - val_loss: 0.0895\n",
            "Epoch 54/100\n",
            "469/469 [==============================] - 3s 5ms/step - loss: 0.0901 - val_loss: 0.0888\n",
            "Epoch 55/100\n",
            "469/469 [==============================] - 3s 6ms/step - loss: 0.0899 - val_loss: 0.0891\n",
            "Epoch 56/100\n",
            "469/469 [==============================] - 3s 6ms/step - loss: 0.0899 - val_loss: 0.0890\n",
            "Epoch 57/100\n",
            "469/469 [==============================] - 3s 5ms/step - loss: 0.0899 - val_loss: 0.0893\n",
            "Epoch 58/100\n",
            "469/469 [==============================] - 3s 6ms/step - loss: 0.0898 - val_loss: 0.0886\n",
            "Epoch 59/100\n",
            "469/469 [==============================] - 3s 6ms/step - loss: 0.0896 - val_loss: 0.0887\n",
            "Epoch 60/100\n",
            "469/469 [==============================] - 3s 6ms/step - loss: 0.0897 - val_loss: 0.0887\n",
            "Epoch 61/100\n",
            "469/469 [==============================] - 3s 5ms/step - loss: 0.0896 - val_loss: 0.0887\n",
            "Epoch 62/100\n",
            "469/469 [==============================] - 3s 6ms/step - loss: 0.0895 - val_loss: 0.0888\n",
            "Epoch 63/100\n",
            "469/469 [==============================] - 3s 6ms/step - loss: 0.0895 - val_loss: 0.0888\n",
            "Epoch 64/100\n",
            "469/469 [==============================] - 3s 6ms/step - loss: 0.0895 - val_loss: 0.0884\n",
            "Epoch 65/100\n",
            "469/469 [==============================] - 3s 5ms/step - loss: 0.0894 - val_loss: 0.0889\n",
            "Epoch 66/100\n",
            "469/469 [==============================] - 3s 5ms/step - loss: 0.0893 - val_loss: 0.0892\n",
            "Epoch 67/100\n",
            "469/469 [==============================] - 3s 6ms/step - loss: 0.0893 - val_loss: 0.0881\n",
            "Epoch 68/100\n",
            "469/469 [==============================] - 3s 6ms/step - loss: 0.0893 - val_loss: 0.0882\n",
            "Epoch 69/100\n",
            "469/469 [==============================] - 3s 6ms/step - loss: 0.0892 - val_loss: 0.0883\n",
            "Epoch 70/100\n",
            "469/469 [==============================] - 3s 6ms/step - loss: 0.0892 - val_loss: 0.0884\n",
            "Epoch 71/100\n",
            "469/469 [==============================] - 3s 6ms/step - loss: 0.0891 - val_loss: 0.0882\n",
            "Epoch 72/100\n",
            "469/469 [==============================] - 3s 6ms/step - loss: 0.0891 - val_loss: 0.0884\n",
            "Epoch 73/100\n",
            "469/469 [==============================] - 3s 6ms/step - loss: 0.0891 - val_loss: 0.0879\n",
            "Epoch 74/100\n",
            "469/469 [==============================] - 3s 5ms/step - loss: 0.0890 - val_loss: 0.0882\n",
            "Epoch 75/100\n",
            "469/469 [==============================] - 3s 5ms/step - loss: 0.0890 - val_loss: 0.0881\n",
            "Epoch 76/100\n",
            "469/469 [==============================] - 3s 6ms/step - loss: 0.0889 - val_loss: 0.0879\n",
            "Epoch 77/100\n",
            "469/469 [==============================] - 3s 6ms/step - loss: 0.0889 - val_loss: 0.0877\n",
            "Epoch 78/100\n",
            "469/469 [==============================] - 3s 6ms/step - loss: 0.0889 - val_loss: 0.0879\n",
            "Epoch 79/100\n",
            "469/469 [==============================] - 3s 6ms/step - loss: 0.0888 - val_loss: 0.0877\n",
            "Epoch 80/100\n",
            "469/469 [==============================] - 3s 6ms/step - loss: 0.0888 - val_loss: 0.0877\n",
            "Epoch 81/100\n",
            "469/469 [==============================] - 3s 6ms/step - loss: 0.0888 - val_loss: 0.0883\n",
            "Epoch 82/100\n",
            "469/469 [==============================] - 3s 6ms/step - loss: 0.0887 - val_loss: 0.0877\n",
            "Epoch 83/100\n",
            "469/469 [==============================] - 3s 6ms/step - loss: 0.0887 - val_loss: 0.0887\n",
            "Epoch 84/100\n",
            "469/469 [==============================] - 3s 6ms/step - loss: 0.0887 - val_loss: 0.0876\n",
            "Epoch 85/100\n",
            "469/469 [==============================] - 3s 5ms/step - loss: 0.0887 - val_loss: 0.0879\n",
            "Epoch 86/100\n",
            "469/469 [==============================] - 3s 6ms/step - loss: 0.0886 - val_loss: 0.0879\n",
            "Epoch 87/100\n",
            "469/469 [==============================] - 3s 6ms/step - loss: 0.0886 - val_loss: 0.0876\n",
            "Epoch 88/100\n",
            "469/469 [==============================] - 3s 6ms/step - loss: 0.0886 - val_loss: 0.0876\n",
            "Epoch 89/100\n",
            "469/469 [==============================] - 3s 6ms/step - loss: 0.0885 - val_loss: 0.0875\n",
            "Epoch 90/100\n",
            "469/469 [==============================] - 3s 6ms/step - loss: 0.0885 - val_loss: 0.0881\n",
            "Epoch 91/100\n",
            "469/469 [==============================] - 3s 6ms/step - loss: 0.0885 - val_loss: 0.0882\n",
            "Epoch 92/100\n",
            "469/469 [==============================] - 3s 6ms/step - loss: 0.0885 - val_loss: 0.0878\n",
            "Epoch 93/100\n",
            "469/469 [==============================] - 3s 6ms/step - loss: 0.0884 - val_loss: 0.0873\n",
            "Epoch 94/100\n",
            "469/469 [==============================] - 3s 6ms/step - loss: 0.0884 - val_loss: 0.0878\n",
            "Epoch 95/100\n",
            "469/469 [==============================] - 3s 6ms/step - loss: 0.0884 - val_loss: 0.0873\n",
            "Epoch 96/100\n",
            "469/469 [==============================] - 3s 6ms/step - loss: 0.0883 - val_loss: 0.0873\n",
            "Epoch 97/100\n",
            "469/469 [==============================] - 3s 6ms/step - loss: 0.0883 - val_loss: 0.0876\n",
            "Epoch 98/100\n",
            "469/469 [==============================] - 3s 5ms/step - loss: 0.0883 - val_loss: 0.0872\n",
            "Epoch 99/100\n",
            "469/469 [==============================] - 3s 6ms/step - loss: 0.0883 - val_loss: 0.0874\n",
            "Epoch 100/100\n",
            "469/469 [==============================] - 3s 6ms/step - loss: 0.0882 - val_loss: 0.0876\n"
          ],
          "name": "stdout"
        },
        {
          "output_type": "execute_result",
          "data": {
            "text/plain": [
              "<tensorflow.python.keras.callbacks.History at 0x7f71559c87b8>"
            ]
          },
          "metadata": {
            "tags": []
          },
          "execution_count": 45
        }
      ]
    },
    {
      "cell_type": "code",
      "metadata": {
        "colab": {
          "base_uri": "https://localhost:8080/",
          "height": 248
        },
        "id": "XnRS60W_CHgF",
        "outputId": "2ebf02c8-2ad4-4d42-83cb-5cc9a7e0545b"
      },
      "source": [
        "decoded_imgs = autoencoder.predict(x_test)\r\n",
        "\r\n",
        "n = 10\r\n",
        "plt.figure(figsize=(20, 4))\r\n",
        "for i in range(1, n + 1):\r\n",
        "    # Display original\r\n",
        "    ax = plt.subplot(2, n, i)\r\n",
        "    plt.imshow(x_test[i].reshape(28, 28))\r\n",
        "    plt.gray()\r\n",
        "    ax.get_xaxis().set_visible(False)\r\n",
        "    ax.get_yaxis().set_visible(False)\r\n",
        "\r\n",
        "    # Display reconstruction\r\n",
        "    ax = plt.subplot(2, n, i + n)\r\n",
        "    plt.imshow(decoded_imgs[i].reshape(28, 28))\r\n",
        "    plt.gray()\r\n",
        "    ax.get_xaxis().set_visible(False)\r\n",
        "    ax.get_yaxis().set_visible(False)\r\n",
        "plt.show()"
      ],
      "execution_count": null,
      "outputs": [
        {
          "output_type": "display_data",
          "data": {
            "image/png": "[encoded data removed]",
            "text/plain": [
              "<Figure size 1440x288 with 20 Axes>"
            ]
          },
          "metadata": {
            "tags": [],
            "needs_background": "light"
          }
        }
      ]
    },
    {
      "cell_type": "code",
      "metadata": {
        "id": "IdeSBGVsDymt"
      },
      "source": [
        ""
      ],
      "execution_count": null,
      "outputs": []
    }
  ]
}